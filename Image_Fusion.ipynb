{
  "nbformat": 4,
  "nbformat_minor": 0,
  "metadata": {
    "colab": {
      "provenance": [],
      "gpuType": "T4"
    },
    "kernelspec": {
      "name": "python3",
      "display_name": "Python 3"
    },
    "language_info": {
      "name": "python"
    }
  },
  "cells": [
    {
      "cell_type": "code",
      "source": [
        "from google.colab import drive\n",
        "drive.mount('/content/drive')"
      ],
      "metadata": {
        "id": "5_D9iGy6lYqu"
      },
      "execution_count": null,
      "outputs": []
    },
    {
      "cell_type": "code",
      "source": [
        "!cp ./drive/MyDrive/image_set.zip ./\n",
        "!unzip ./image_set.zip"
      ],
      "metadata": {
        "colab": {
          "base_uri": "https://localhost:8080/"
        },
        "id": "kHQDltlrNeFi",
        "outputId": "0580b7f0-d378-4421-e430-335d523c11cd"
      },
      "execution_count": null,
      "outputs": [
        {
          "output_type": "stream",
          "name": "stdout",
          "text": [
            "Archive:  ./image_set.zip\n",
            "   creating: image_set/\n",
            "  inflating: image_set/1.jpg         \n",
            "  inflating: image_set/2.jpg         \n",
            "  inflating: image_set/3.jpg         \n",
            "  inflating: image_set/4.jpg         \n",
            "  inflating: image_set/5.jpg         \n",
            "  inflating: image_set/6.jpg         \n"
          ]
        }
      ]
    },
    {
      "cell_type": "code",
      "source": [],
      "metadata": {
        "id": "nHvjk9HHPXOJ"
      },
      "execution_count": null,
      "outputs": []
    },
    {
      "cell_type": "code",
      "source": [
        "import cv2\n",
        "import numpy as np\n",
        "\n",
        "# Function to convert an image to grayscale and normalize pixel values\n",
        "def preprocess_image(image):\n",
        "    gray_image = cv2.cvtColor(image, cv2.COLOR_BGR2GRAY)\n",
        "    normalized_image = gray_image.astype(np.float32) / 255.0\n",
        "    resized_image = cv2.resize(normalized_image, (1008, 1344))\n",
        "\n",
        "    return resized_image\n",
        "\n",
        "# List to store preprocessed images\n",
        "preprocessed_images = []\n",
        "\n",
        "# Open and preprocess each image\n",
        "image_paths = [\"./1.jpg\", \"./2.jpg\", \"./3.jpg\", \"./4.jpg\", \"./5.jpg\", \"./6.jpg\", \"./7.jpg\"]\n",
        "# image_paths = [\"./1.jpg\", \"./2.jpg\"]\n",
        "for path in image_paths:\n",
        "    image = cv2.imread(path)\n",
        "    preprocessed_image = preprocess_image(image)\n",
        "    preprocessed_images.append(preprocessed_image)\n",
        "\n",
        "max_width = max(image.shape[1] for image in preprocessed_images)\n",
        "max_height = max(image.shape[0] for image in preprocessed_images)\n",
        "\n",
        "# Create the 3D matrix to store the stacked images\n",
        "stacked_image = np.zeros((len(preprocessed_images), max_height, max_width), dtype=np.float32)\n",
        "\n",
        "# Stack images vertically while preserving resolution\n",
        "for i, image in enumerate(preprocessed_images):\n",
        "    stacked_image[i, :image.shape[0], :image.shape[1]] = image\n",
        "\n",
        "# Save the stacked image as npy file\n",
        "np.save(\"stacked_image_small.npy\", stacked_image)"
      ],
      "metadata": {
        "id": "Isnx4MHjQV9I"
      },
      "execution_count": null,
      "outputs": []
    },
    {
      "cell_type": "code",
      "source": [
        "(stacked_image.shape)"
      ],
      "metadata": {
        "colab": {
          "base_uri": "https://localhost:8080/"
        },
        "id": "i1d7sgK_Qp7D",
        "outputId": "731575af-fc54-4b2a-c80f-52b8bc692b27"
      },
      "execution_count": null,
      "outputs": [
        {
          "output_type": "execute_result",
          "data": {
            "text/plain": [
              "(7, 1344, 1008)"
            ]
          },
          "metadata": {},
          "execution_count": 2
        }
      ]
    },
    {
      "cell_type": "code",
      "source": [
        "import numpy as np\n",
        "import matplotlib.pyplot as plt\n",
        "\n",
        "def fit_curve_and_find_max_rate(points):\n",
        "    # Generate x and y coordinates from the given points\n",
        "    x = np.arange(len(points))\n",
        "    y = np.array(points)\n",
        "\n",
        "    # Fit a polynomial curve of degree 5 to the points\n",
        "    coefficients = np.polyfit(x, y, 5)\n",
        "    polynomial = np.poly1d(coefficients)\n",
        "\n",
        "    # Calculate the derivative of the polynomial equation\n",
        "    derivative = np.polyder(polynomial)\n",
        "\n",
        "    # Find the critical points where the derivative is zero or undefined\n",
        "    critical_points = np.roots(derivative)\n",
        "\n",
        "    # Evaluate the derivative at the critical points to find the maximum rate of change\n",
        "    max_rate_of_change = np.max(np.abs(np.polyval(derivative, critical_points)))\n",
        "\n",
        "    # Find the point with maximum rate of change\n",
        "    max_rate_x = critical_points[np.argmax(np.abs(np.polyval(derivative, critical_points)))]\n",
        "    max_rate_y = polynomial(max_rate_x)\n",
        "    return polynomial, (max_rate_x, max_rate_y), max_rate_of_change\n"
      ],
      "metadata": {
        "id": "1CqVm6TsdNPp"
      },
      "execution_count": null,
      "outputs": []
    },
    {
      "cell_type": "code",
      "source": [
        "import numpy as np\n",
        "!cp /content/drive/MyDrive/stacked_image_small.npy /content\n",
        "stacked_image = np.load('./stacked_image_small.npy')"
      ],
      "metadata": {
        "id": "O1p0BW3HQgf-"
      },
      "execution_count": null,
      "outputs": []
    },
    {
      "cell_type": "code",
      "source": [
        "print(stacked_image.shape)"
      ],
      "metadata": {
        "colab": {
          "base_uri": "https://localhost:8080/"
        },
        "id": "2KNSgYNtm6pu",
        "outputId": "432601d7-dfa5-4f84-879a-4c234527d27e"
      },
      "execution_count": null,
      "outputs": [
        {
          "output_type": "stream",
          "name": "stdout",
          "text": [
            "(6, 1344, 1008)\n"
          ]
        }
      ]
    },
    {
      "cell_type": "code",
      "source": [
        "matrix_height = len(stacked_image[0,:,0])\n",
        "matrix_width = len(stacked_image[0,0,:])\n",
        "print(matrix_height)\n",
        "print(matrix_width)"
      ],
      "metadata": {
        "colab": {
          "base_uri": "https://localhost:8080/"
        },
        "id": "kSyqjb4sk6Ow",
        "outputId": "be5d717b-a3b7-4eb8-d418-27656c3459cb"
      },
      "execution_count": null,
      "outputs": [
        {
          "output_type": "stream",
          "name": "stdout",
          "text": [
            "1344\n",
            "1008\n"
          ]
        }
      ]
    },
    {
      "cell_type": "code",
      "source": [
        "import numpy as np\n",
        "\n",
        "matrix_height = len(stacked_image[0,:,0])\n",
        "matrix_width = len(stacked_image[0,0,:])\n",
        "final_image_translator = np.zeros((matrix_height, matrix_width))\n",
        "max_rate_change_matrix = np.zeros((matrix_height, matrix_width))\n",
        "\n",
        "\n",
        "\n",
        "for row in range(matrix_height):\n",
        "  for col in range(matrix_width):\n",
        "\n",
        "    first_pixel_values = stacked_image[:, row, col]\n",
        "    # Fit the curve and find the local maxima\n",
        "    polynomial, max_rate_point, max_rate_of_change = fit_curve_and_find_max_rate(first_pixel_values)\n",
        "    max_x, max_y = max_rate_point\n",
        "    final_image_translator[row, col] = max_x\n",
        "    max_rate_change_matrix[row, col] = max_rate_of_change\n",
        "  print(row)\n",
        "\n",
        "# Print the polynomial equation coefficients\n",
        "#print(\"Polynomial Equation:\")\n",
        "#print(polynomial)"
      ],
      "metadata": {
        "id": "qrdTpyy0VhS-"
      },
      "execution_count": null,
      "outputs": []
    },
    {
      "cell_type": "code",
      "source": [
        "print(max_rate_change_matrix[10,10])"
      ],
      "metadata": {
        "colab": {
          "base_uri": "https://localhost:8080/"
        },
        "id": "Cw169mJ0zI-2",
        "outputId": "83b5f3c1-406c-403a-ce8b-8c3e8dccd4c0"
      },
      "execution_count": null,
      "outputs": [
        {
          "output_type": "stream",
          "name": "stdout",
          "text": [
            "1.2490310190672261e-16\n"
          ]
        }
      ]
    },
    {
      "cell_type": "code",
      "source": [
        "# to find the average rate of change across the whole set of seven images\n",
        "import matplotlib.pyplot as plt\n",
        "\n",
        "rate_sum = 0\n",
        "rate_div = 0\n",
        "\n",
        "for row in range(matrix_height):\n",
        "  for col in range(matrix_width):\n",
        "    rate_sum = max_rate_change_matrix[row, col]\n",
        "    rate_div += 1\n",
        "\n",
        "avg_rate_change = rate_sum / rate_div\n"
      ],
      "metadata": {
        "id": "-ZzB8rejpWXw"
      },
      "execution_count": null,
      "outputs": []
    },
    {
      "cell_type": "code",
      "source": [
        "# cleaning the image translation matrix\n",
        "matrix_height = len(stacked_image[0,:,0])\n",
        "matrix_width = len(stacked_image[0,0,:])\n",
        "\n",
        "for row in range(matrix_height):\n",
        "    for col in range(matrix_width):\n",
        "      if final_image_translator[row, col] <= 0:\n",
        "        final_image_translator[row, col] = 0\n",
        "\n",
        "      elif final_image_translator[row, col] >= 6:\n",
        "        final_image_translator[row, col] = 6\n"
      ],
      "metadata": {
        "id": "Uv5y3M-BcYJR"
      },
      "execution_count": null,
      "outputs": []
    },
    {
      "cell_type": "code",
      "source": [
        "import matplotlib.pyplot as plt\n",
        "\n",
        "#variables\n",
        "matrix_height = len(stacked_image[0,:,0])\n",
        "matrix_width = len(stacked_image[0,0,:])\n",
        "image_depth = 0\n",
        "final_image = np.zeros((matrix_height, matrix_width))\n",
        "print(final_image.shape)\n",
        "for row in range(matrix_height):\n",
        "    for col in range(matrix_width):\n",
        "      image_depth = int(final_image_translator[row, col])\n",
        "      if max_rate_change_matrix[row, col] > 100000000 * avg_rate_change: #important parameter\n",
        "        image_depth = 0\n",
        "      final_image[row, col] = stacked_image[image_depth, row, col]\n",
        "\n",
        "final_final_image = final_image * 255\n",
        "filename = 'fused.jpg'\n",
        "cv2.imwrite(filename, final_final_image)"
      ],
      "metadata": {
        "colab": {
          "base_uri": "https://localhost:8080/"
        },
        "id": "8zsW3sWnxInI",
        "outputId": "c25cb330-cd3b-4752-fc2a-25e465361ea0"
      },
      "execution_count": null,
      "outputs": [
        {
          "output_type": "stream",
          "name": "stdout",
          "text": [
            "(1344, 1008)\n"
          ]
        },
        {
          "output_type": "execute_result",
          "data": {
            "text/plain": [
              "True"
            ]
          },
          "metadata": {},
          "execution_count": 24
        }
      ]
    },
    {
      "cell_type": "code",
      "source": [
        "filename = 'fused.jpg'\n",
        "cv2.imwrite(filename, final_final_image)"
      ],
      "metadata": {
        "colab": {
          "base_uri": "https://localhost:8080/"
        },
        "id": "kUs1jrZFzGwI",
        "outputId": "c23b08c0-6839-4930-929c-4e95882b0e8a"
      },
      "execution_count": null,
      "outputs": [
        {
          "output_type": "execute_result",
          "data": {
            "text/plain": [
              "True"
            ]
          },
          "metadata": {},
          "execution_count": 62
        }
      ]
    },
    {
      "cell_type": "code",
      "source": [
        "###############################################################################\n",
        "###############################################################################\n",
        "###############################################################################\n",
        "# parallalizing the code using CUDA"
      ],
      "metadata": {
        "id": "bEl851iZClVW"
      },
      "execution_count": null,
      "outputs": []
    }
  ]
}